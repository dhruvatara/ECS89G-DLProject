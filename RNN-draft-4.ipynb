{
 "cells": [
  {
   "cell_type": "code",
   "execution_count": 136,
   "metadata": {},
   "outputs": [],
   "source": [
    "import numpy as np\n",
    "import pandas as pd\n",
    "df = pd.read_csv('somewhat_cleaned.csv')\n",
    "twentycentury = df[df['Year']>1899]"
   ]
  },
  {
   "cell_type": "code",
   "execution_count": 137,
   "metadata": {},
   "outputs": [
    {
     "data": {
      "text/plain": [
       "Unnamed: 0                                                   0\n",
       "Country                                                      0\n",
       "Year                                                         0\n",
       "Gold Standard                                                0\n",
       "exch_usd                                                     0\n",
       "Domestic_Debt_In_Default                                     0\n",
       "Sovereign External Debt                                      0\n",
       "GDP_Weighted_default                                         0\n",
       "Inflation, Annual percentages of average consumer prices     0\n",
       "Independence                                                 0\n",
       "Unemployment Rate                                            0\n",
       "GDP                                                          0\n",
       "GDP PerCapita                                               21\n",
       "Crisis                                                       0\n",
       "dtype: int64"
      ]
     },
     "execution_count": 137,
     "metadata": {},
     "output_type": "execute_result"
    }
   ],
   "source": [
    "# considering only 20th century+ data because GDP and inflation values are NaN before\n",
    "twentycentury.isna().sum()"
   ]
  },
  {
   "cell_type": "code",
   "execution_count": 138,
   "metadata": {},
   "outputs": [],
   "source": [
    "# canada = twentycentury[twentycentury['Country']=='Canada']"
   ]
  },
  {
   "cell_type": "code",
   "execution_count": 141,
   "metadata": {},
   "outputs": [],
   "source": [
    "X = twentycentury.drop(['Unnamed: 0','Crisis','GDP PerCapita','Year','Country'],axis=1)\n",
    "y = twentycentury['Crisis']\n",
    "columns = X.columns"
   ]
  },
  {
   "cell_type": "code",
   "execution_count": 142,
   "metadata": {},
   "outputs": [
    {
     "data": {
      "text/html": [
       "<div>\n",
       "<style scoped>\n",
       "    .dataframe tbody tr th:only-of-type {\n",
       "        vertical-align: middle;\n",
       "    }\n",
       "\n",
       "    .dataframe tbody tr th {\n",
       "        vertical-align: top;\n",
       "    }\n",
       "\n",
       "    .dataframe thead th {\n",
       "        text-align: right;\n",
       "    }\n",
       "</style>\n",
       "<table border=\"1\" class=\"dataframe\">\n",
       "  <thead>\n",
       "    <tr style=\"text-align: right;\">\n",
       "      <th></th>\n",
       "      <th>Gold Standard</th>\n",
       "      <th>exch_usd</th>\n",
       "      <th>Domestic_Debt_In_Default</th>\n",
       "      <th>Sovereign External Debt</th>\n",
       "      <th>GDP_Weighted_default</th>\n",
       "      <th>Inflation, Annual percentages of average consumer prices</th>\n",
       "      <th>Independence</th>\n",
       "      <th>Unemployment Rate</th>\n",
       "      <th>GDP</th>\n",
       "    </tr>\n",
       "  </thead>\n",
       "  <tbody>\n",
       "    <tr>\n",
       "      <th>100</th>\n",
       "      <td>1</td>\n",
       "      <td>1.0004</td>\n",
       "      <td>0</td>\n",
       "      <td>0</td>\n",
       "      <td>0.0</td>\n",
       "      <td>3.5801205818905992</td>\n",
       "      <td>1</td>\n",
       "      <td>0.0</td>\n",
       "      <td>15886.780</td>\n",
       "    </tr>\n",
       "    <tr>\n",
       "      <th>101</th>\n",
       "      <td>1</td>\n",
       "      <td>1.0004</td>\n",
       "      <td>0</td>\n",
       "      <td>0</td>\n",
       "      <td>0.0</td>\n",
       "      <td>1.5778596961572964</td>\n",
       "      <td>1</td>\n",
       "      <td>0.0</td>\n",
       "      <td>17143.756</td>\n",
       "    </tr>\n",
       "    <tr>\n",
       "      <th>102</th>\n",
       "      <td>1</td>\n",
       "      <td>1.0004</td>\n",
       "      <td>0</td>\n",
       "      <td>0</td>\n",
       "      <td>0.0</td>\n",
       "      <td>3.7351810750825427</td>\n",
       "      <td>1</td>\n",
       "      <td>0.0</td>\n",
       "      <td>18819.724</td>\n",
       "    </tr>\n",
       "    <tr>\n",
       "      <th>103</th>\n",
       "      <td>1</td>\n",
       "      <td>1.0004</td>\n",
       "      <td>0</td>\n",
       "      <td>0</td>\n",
       "      <td>0.0</td>\n",
       "      <td>1.6421705210365118</td>\n",
       "      <td>1</td>\n",
       "      <td>0.0</td>\n",
       "      <td>19378.380</td>\n",
       "    </tr>\n",
       "    <tr>\n",
       "      <th>104</th>\n",
       "      <td>1</td>\n",
       "      <td>1.0004</td>\n",
       "      <td>0</td>\n",
       "      <td>0</td>\n",
       "      <td>0.0</td>\n",
       "      <td>1.0982815938568167</td>\n",
       "      <td>1</td>\n",
       "      <td>0.0</td>\n",
       "      <td>19657.708</td>\n",
       "    </tr>\n",
       "  </tbody>\n",
       "</table>\n",
       "</div>"
      ],
      "text/plain": [
       "     Gold Standard  exch_usd  Domestic_Debt_In_Default  \\\n",
       "100              1    1.0004                         0   \n",
       "101              1    1.0004                         0   \n",
       "102              1    1.0004                         0   \n",
       "103              1    1.0004                         0   \n",
       "104              1    1.0004                         0   \n",
       "\n",
       "     Sovereign External Debt  GDP_Weighted_default  \\\n",
       "100                        0                   0.0   \n",
       "101                        0                   0.0   \n",
       "102                        0                   0.0   \n",
       "103                        0                   0.0   \n",
       "104                        0                   0.0   \n",
       "\n",
       "    Inflation, Annual percentages of average consumer prices  Independence  \\\n",
       "100                                 3.5801205818905992                   1   \n",
       "101                                 1.5778596961572964                   1   \n",
       "102                                 3.7351810750825427                   1   \n",
       "103                                 1.6421705210365118                   1   \n",
       "104                                 1.0982815938568167                   1   \n",
       "\n",
       "     Unemployment Rate        GDP  \n",
       "100                0.0  15886.780  \n",
       "101                0.0  17143.756  \n",
       "102                0.0  18819.724  \n",
       "103                0.0  19378.380  \n",
       "104                0.0  19657.708  "
      ]
     },
     "execution_count": 142,
     "metadata": {},
     "output_type": "execute_result"
    }
   ],
   "source": [
    "X.head()"
   ]
  },
  {
   "cell_type": "code",
   "execution_count": 144,
   "metadata": {},
   "outputs": [],
   "source": [
    "from sklearn.preprocessing import MinMaxScaler\n",
    "scaler = MinMaxScaler()\n",
    "X = scaler.fit_transform(X)"
   ]
  },
  {
   "cell_type": "code",
   "execution_count": 145,
   "metadata": {},
   "outputs": [
    {
     "data": {
      "text/html": [
       "<div>\n",
       "<style scoped>\n",
       "    .dataframe tbody tr th:only-of-type {\n",
       "        vertical-align: middle;\n",
       "    }\n",
       "\n",
       "    .dataframe tbody tr th {\n",
       "        vertical-align: top;\n",
       "    }\n",
       "\n",
       "    .dataframe thead th {\n",
       "        text-align: right;\n",
       "    }\n",
       "</style>\n",
       "<table border=\"1\" class=\"dataframe\">\n",
       "  <thead>\n",
       "    <tr style=\"text-align: right;\">\n",
       "      <th></th>\n",
       "      <th>Gold Standard</th>\n",
       "      <th>exch_usd</th>\n",
       "      <th>Domestic_Debt_In_Default</th>\n",
       "      <th>Sovereign External Debt</th>\n",
       "      <th>GDP_Weighted_default</th>\n",
       "      <th>Inflation, Annual percentages of average consumer prices</th>\n",
       "      <th>Independence</th>\n",
       "      <th>Unemployment Rate</th>\n",
       "      <th>GDP</th>\n",
       "    </tr>\n",
       "  </thead>\n",
       "  <tbody>\n",
       "    <tr>\n",
       "      <th>0</th>\n",
       "      <td>1.0</td>\n",
       "      <td>0.041984</td>\n",
       "      <td>0.0</td>\n",
       "      <td>0.0</td>\n",
       "      <td>0.0</td>\n",
       "      <td>0.160503</td>\n",
       "      <td>0.0</td>\n",
       "      <td>0.0</td>\n",
       "      <td>0.001580</td>\n",
       "    </tr>\n",
       "    <tr>\n",
       "      <th>1</th>\n",
       "      <td>1.0</td>\n",
       "      <td>0.041984</td>\n",
       "      <td>0.0</td>\n",
       "      <td>0.0</td>\n",
       "      <td>0.0</td>\n",
       "      <td>0.147410</td>\n",
       "      <td>0.0</td>\n",
       "      <td>0.0</td>\n",
       "      <td>0.001713</td>\n",
       "    </tr>\n",
       "    <tr>\n",
       "      <th>2</th>\n",
       "      <td>1.0</td>\n",
       "      <td>0.041984</td>\n",
       "      <td>0.0</td>\n",
       "      <td>0.0</td>\n",
       "      <td>0.0</td>\n",
       "      <td>0.161517</td>\n",
       "      <td>0.0</td>\n",
       "      <td>0.0</td>\n",
       "      <td>0.001889</td>\n",
       "    </tr>\n",
       "    <tr>\n",
       "      <th>3</th>\n",
       "      <td>1.0</td>\n",
       "      <td>0.041984</td>\n",
       "      <td>0.0</td>\n",
       "      <td>0.0</td>\n",
       "      <td>0.0</td>\n",
       "      <td>0.147831</td>\n",
       "      <td>0.0</td>\n",
       "      <td>0.0</td>\n",
       "      <td>0.001948</td>\n",
       "    </tr>\n",
       "    <tr>\n",
       "      <th>4</th>\n",
       "      <td>1.0</td>\n",
       "      <td>0.041984</td>\n",
       "      <td>0.0</td>\n",
       "      <td>0.0</td>\n",
       "      <td>0.0</td>\n",
       "      <td>0.144274</td>\n",
       "      <td>0.0</td>\n",
       "      <td>0.0</td>\n",
       "      <td>0.001978</td>\n",
       "    </tr>\n",
       "  </tbody>\n",
       "</table>\n",
       "</div>"
      ],
      "text/plain": [
       "   Gold Standard  exch_usd  Domestic_Debt_In_Default  Sovereign External Debt  \\\n",
       "0            1.0  0.041984                       0.0                      0.0   \n",
       "1            1.0  0.041984                       0.0                      0.0   \n",
       "2            1.0  0.041984                       0.0                      0.0   \n",
       "3            1.0  0.041984                       0.0                      0.0   \n",
       "4            1.0  0.041984                       0.0                      0.0   \n",
       "\n",
       "   GDP_Weighted_default  \\\n",
       "0                   0.0   \n",
       "1                   0.0   \n",
       "2                   0.0   \n",
       "3                   0.0   \n",
       "4                   0.0   \n",
       "\n",
       "   Inflation, Annual percentages of average consumer prices  Independence  \\\n",
       "0                                           0.160503                  0.0   \n",
       "1                                           0.147410                  0.0   \n",
       "2                                           0.161517                  0.0   \n",
       "3                                           0.147831                  0.0   \n",
       "4                                           0.144274                  0.0   \n",
       "\n",
       "   Unemployment Rate       GDP  \n",
       "0                0.0  0.001580  \n",
       "1                0.0  0.001713  \n",
       "2                0.0  0.001889  \n",
       "3                0.0  0.001948  \n",
       "4                0.0  0.001978  "
      ]
     },
     "execution_count": 145,
     "metadata": {},
     "output_type": "execute_result"
    }
   ],
   "source": [
    "X = pd.DataFrame(X,columns=columns)\n",
    "X.head()"
   ]
  },
  {
   "cell_type": "code",
   "execution_count": 146,
   "metadata": {},
   "outputs": [],
   "source": [
    "# Buid RNN model\n",
    "# Import libraries\n",
    "import tensorflow as tf\n",
    "from tensorflow import keras\n",
    "from tensorflow.keras import layers"
   ]
  },
  {
   "cell_type": "code",
   "execution_count": 147,
   "metadata": {},
   "outputs": [
    {
     "data": {
      "text/plain": [
       "(348, 9)"
      ]
     },
     "execution_count": 147,
     "metadata": {},
     "output_type": "execute_result"
    }
   ],
   "source": [
    "X.shape"
   ]
  },
  {
   "cell_type": "code",
   "execution_count": 172,
   "metadata": {},
   "outputs": [
    {
     "name": "stdout",
     "output_type": "stream",
     "text": [
      "Model: \"sequential_26\"\n",
      "_________________________________________________________________\n",
      "Layer (type)                 Output Shape              Param #   \n",
      "=================================================================\n",
      "embedding_22 (Embedding)     (None, None, 32)          64        \n",
      "_________________________________________________________________\n",
      "lstm_26 (LSTM)               (None, 32)                8320      \n",
      "_________________________________________________________________\n",
      "dense_25 (Dense)             (None, 1)                 33        \n",
      "=================================================================\n",
      "Total params: 8,417\n",
      "Trainable params: 8,417\n",
      "Non-trainable params: 0\n",
      "_________________________________________________________________\n"
     ]
    }
   ],
   "source": [
    "model = keras.Sequential()\n",
    "\n",
    "model.add(layers.Embedding(input_dim=2, output_dim=32)) #input_dim to be decided...\n",
    "\n",
    "# Add a LSTM layer with 32 internal units.\n",
    "model.add(layers.LSTM(32,activation='sigmoid', recurrent_activation='sigmoid'))\n",
    "\n",
    "# Add a Dense layer with 1 unit.\n",
    "model.add(layers.Dense(1,activation='sigmoid'))\n",
    "\n",
    "history = model.compile(optimizer=\"Adam\", loss=\"binary_crossentropy\", metrics=[tf.keras.metrics.Precision(), tf.keras.metrics.Recall()])\n",
    "\n",
    "model.summary()"
   ]
  },
  {
   "cell_type": "code",
   "execution_count": 175,
   "metadata": {},
   "outputs": [
    {
     "name": "stdout",
     "output_type": "stream",
     "text": [
      "Epoch 1/20\n",
      "3/3 [==============================] - 0s 3ms/step - loss: 0.5635 - precision_5: 1.0000 - recall_3: 0.0109    \n",
      "Epoch 2/20\n",
      "3/3 [==============================] - 0s 3ms/step - loss: 0.5632 - precision_5: 1.0000 - recall_3: 0.0109    \n",
      "Epoch 3/20\n",
      "3/3 [==============================] - 0s 3ms/step - loss: 0.5632 - precision_5: 1.0000 - recall_3: 0.0109\n",
      "Epoch 4/20\n",
      "3/3 [==============================] - 0s 3ms/step - loss: 0.5629 - precision_5: 1.0000 - recall_3: 0.0109\n",
      "Epoch 5/20\n",
      "3/3 [==============================] - 0s 4ms/step - loss: 0.5626 - precision_5: 1.0000 - recall_3: 0.0109    \n",
      "Epoch 6/20\n",
      "3/3 [==============================] - 0s 4ms/step - loss: 0.5625 - precision_5: 1.0000 - recall_3: 0.0109\n",
      "Epoch 7/20\n",
      "3/3 [==============================] - 0s 3ms/step - loss: 0.5623 - precision_5: 1.0000 - recall_3: 0.0109    \n",
      "Epoch 8/20\n",
      "3/3 [==============================] - 0s 3ms/step - loss: 0.5619 - precision_5: 1.0000 - recall_3: 0.0109\n",
      "Epoch 9/20\n",
      "3/3 [==============================] - 0s 4ms/step - loss: 0.5618 - precision_5: 1.0000 - recall_3: 0.0109    \n",
      "Epoch 10/20\n",
      "3/3 [==============================] - 0s 3ms/step - loss: 0.5616 - precision_5: 1.0000 - recall_3: 0.0109    \n",
      "Epoch 11/20\n",
      "3/3 [==============================] - 0s 3ms/step - loss: 0.5613 - precision_5: 1.0000 - recall_3: 0.0109    \n",
      "Epoch 12/20\n",
      "3/3 [==============================] - 0s 4ms/step - loss: 0.5610 - precision_5: 1.0000 - recall_3: 0.0109    \n",
      "Epoch 13/20\n",
      "3/3 [==============================] - 0s 3ms/step - loss: 0.5608 - precision_5: 1.0000 - recall_3: 0.0109\n",
      "Epoch 14/20\n",
      "3/3 [==============================] - 0s 3ms/step - loss: 0.5606 - precision_5: 1.0000 - recall_3: 0.0109\n",
      "Epoch 15/20\n",
      "3/3 [==============================] - 0s 3ms/step - loss: 0.5606 - precision_5: 1.0000 - recall_3: 0.0109\n",
      "Epoch 16/20\n",
      "3/3 [==============================] - 0s 3ms/step - loss: 0.5602 - precision_5: 1.0000 - recall_3: 0.0109\n",
      "Epoch 17/20\n",
      "3/3 [==============================] - 0s 3ms/step - loss: 0.5600 - precision_5: 1.0000 - recall_3: 0.0109    \n",
      "Epoch 18/20\n",
      "3/3 [==============================] - 0s 4ms/step - loss: 0.5602 - precision_5: 1.0000 - recall_3: 0.0109    \n",
      "Epoch 19/20\n",
      "3/3 [==============================] - 0s 3ms/step - loss: 0.5597 - precision_5: 1.0000 - recall_3: 0.0109\n",
      "Epoch 20/20\n",
      "3/3 [==============================] - 0s 4ms/step - loss: 0.5597 - precision_5: 1.0000 - recall_3: 0.0109    \n"
     ]
    },
    {
     "data": {
      "text/plain": [
       "<tensorflow.python.keras.callbacks.History at 0x20ce1deedc0>"
      ]
     },
     "execution_count": 175,
     "metadata": {},
     "output_type": "execute_result"
    }
   ],
   "source": [
    "model.fit(X,y,\n",
    "         epochs=20,\n",
    "         batch_size=128)"
   ]
  },
  {
   "cell_type": "code",
   "execution_count": null,
   "metadata": {},
   "outputs": [],
   "source": []
  }
 ],
 "metadata": {
  "kernelspec": {
   "display_name": "Python 3",
   "language": "python",
   "name": "python3"
  },
  "language_info": {
   "codemirror_mode": {
    "name": "ipython",
    "version": 3
   },
   "file_extension": ".py",
   "mimetype": "text/x-python",
   "name": "python",
   "nbconvert_exporter": "python",
   "pygments_lexer": "ipython3",
   "version": "3.8.3"
  }
 },
 "nbformat": 4,
 "nbformat_minor": 4
}
