{
 "cells": [
  {
   "cell_type": "code",
   "execution_count": 31,
   "metadata": {
    "id": "QRNBWQxxltfJ"
   },
   "outputs": [],
   "source": [
    "# Define dataframe\n",
    "# Will use same as baseline\n",
    "import numpy as np\n",
    "import pandas as pd\n",
    "df = pd.read_csv('https://raw.githubusercontent.com/dhruvatara/ECS89G-DLProject/main/somewhat_cleaned.csv?token=ARRHNKA6TY525CKBR4M4O327WHZPK')\n",
    "twentycentury = df[df['Year']>1899]"
   ]
  },
  {
   "cell_type": "code",
   "execution_count": 32,
   "metadata": {
    "colab": {
     "base_uri": "https://localhost:8080/"
    },
    "id": "OBiGdXeAltfl",
    "outputId": "55b01cc9-24da-4560-d4d1-f7e12b71f983"
   },
   "outputs": [
    {
     "data": {
      "text/plain": [
       "Unnamed: 0                                                   0\n",
       "Country                                                      0\n",
       "Year                                                         0\n",
       "Gold Standard                                                0\n",
       "exch_usd                                                     0\n",
       "Domestic_Debt_In_Default                                     0\n",
       "Sovereign External Debt                                      0\n",
       "GDP_Weighted_default                                         0\n",
       "Inflation, Annual percentages of average consumer prices     0\n",
       "Independence                                                 0\n",
       "Unemployment Rate                                            0\n",
       "GDP                                                          0\n",
       "GDP PerCapita                                               21\n",
       "Crisis                                                       0\n",
       "dtype: int64"
      ]
     },
     "execution_count": 32,
     "metadata": {
      "tags": []
     },
     "output_type": "execute_result"
    }
   ],
   "source": [
    "# considering only 20th century+ data because GDP and inflation values are NaN before\n",
    "twentycentury.isna().sum()"
   ]
  },
  {
   "cell_type": "code",
   "execution_count": 33,
   "metadata": {
    "id": "ZpvIkVHKltft"
   },
   "outputs": [],
   "source": [
    "X = twentycentury.drop(['Crisis','GDP PerCapita','Country'],axis=1)\n",
    "y = twentycentury['Crisis']"
   ]
  },
  {
   "cell_type": "code",
   "execution_count": 34,
   "metadata": {
    "colab": {
     "base_uri": "https://localhost:8080/"
    },
    "id": "Jq5RpBMXAJNQ",
    "outputId": "803a239c-5cf0-4586-f9d1-0a7fc612591d"
   },
   "outputs": [
    {
     "data": {
      "text/plain": [
       "Unnamed: 0                                                                    100\n",
       "Year                                                                         1900\n",
       "Gold Standard                                                                   0\n",
       "exch_usd                                                                        0\n",
       "Domestic_Debt_In_Default                                                        0\n",
       "Sovereign External Debt                                                         0\n",
       "GDP_Weighted_default                                                            0\n",
       "Inflation, Annual percentages of average consumer prices    -0.053709319854573355\n",
       "Independence                                                                    1\n",
       "Unemployment Rate                                                               0\n",
       "GDP                                                                        900.05\n",
       "dtype: object"
      ]
     },
     "execution_count": 34,
     "metadata": {
      "tags": []
     },
     "output_type": "execute_result"
    }
   ],
   "source": [
    "X.min()"
   ]
  },
  {
   "cell_type": "code",
   "execution_count": 35,
   "metadata": {
    "id": "jwivBwdBEwdb"
   },
   "outputs": [],
   "source": [
    "# When all values are converted to float32, the minimum is -20 something\n",
    "X['Inflation, Annual percentages of average consumer prices'] = X['Inflation, Annual percentages of average consumer prices'].astype(np.float32) + 21"
   ]
  },
  {
   "cell_type": "code",
   "execution_count": 36,
   "metadata": {
    "colab": {
     "base_uri": "https://localhost:8080/"
    },
    "id": "085S_9CmEw3J",
    "outputId": "b6001ab0-6f70-4f99-e050-4d236027e8c4"
   },
   "outputs": [
    {
     "data": {
      "text/plain": [
       "<map at 0x7efb9e1690b8>"
      ]
     },
     "execution_count": 36,
     "metadata": {
      "tags": []
     },
     "output_type": "execute_result"
    }
   ],
   "source": [
    "map(str, X['Inflation, Annual percentages of average consumer prices'])"
   ]
  },
  {
   "cell_type": "code",
   "execution_count": 37,
   "metadata": {
    "colab": {
     "base_uri": "https://localhost:8080/"
    },
    "id": "cwC9nVRXltfx",
    "outputId": "e94f9c3c-faee-44af-9445-1a51677f70ed"
   },
   "outputs": [
    {
     "data": {
      "text/plain": [
       "(348, 11)"
      ]
     },
     "execution_count": 37,
     "metadata": {
      "tags": []
     },
     "output_type": "execute_result"
    }
   ],
   "source": [
    "X.shape"
   ]
  },
  {
   "cell_type": "code",
   "execution_count": 38,
   "metadata": {
    "id": "CSWJJZaQltf2"
   },
   "outputs": [],
   "source": [
    "X = np.asarray(X).astype('float32')\n",
    "y = np.asarray(y).astype(\"float32\")"
   ]
  },
  {
   "cell_type": "code",
   "execution_count": 39,
   "metadata": {
    "colab": {
     "base_uri": "https://localhost:8080/"
    },
    "id": "1Th_wGsBltf5",
    "outputId": "617732f4-e1fa-45a0-a925-e475419df244"
   },
   "outputs": [
    {
     "data": {
      "text/plain": [
       "9485137.0"
      ]
     },
     "execution_count": 39,
     "metadata": {
      "tags": []
     },
     "output_type": "execute_result"
    }
   ],
   "source": [
    "input_dimen = (max(X.max(axis=1)) + 1)\n",
    "input_dimen"
   ]
  },
  {
   "cell_type": "code",
   "execution_count": 40,
   "metadata": {
    "id": "kzqo0L_Bltf-"
   },
   "outputs": [],
   "source": [
    "# Buid RNN model\n",
    "# Import libraries\n",
    "import tensorflow as tf\n",
    "from tensorflow import keras\n",
    "from tensorflow.keras import layers"
   ]
  },
  {
   "cell_type": "code",
   "execution_count": 41,
   "metadata": {
    "colab": {
     "base_uri": "https://localhost:8080/"
    },
    "id": "uMYBOr-5ltgB",
    "outputId": "7574346d-0be5-4875-d173-045320d86cdc"
   },
   "outputs": [
    {
     "name": "stdout",
     "output_type": "stream",
     "text": [
      "Model: \"sequential_1\"\n",
      "_________________________________________________________________\n",
      "Layer (type)                 Output Shape              Param #   \n",
      "=================================================================\n",
      "embedding_1 (Embedding)      (None, None, 32)          303524384 \n",
      "_________________________________________________________________\n",
      "lstm_1 (LSTM)                (None, 32)                8320      \n",
      "_________________________________________________________________\n",
      "dense_1 (Dense)              (None, 10)                330       \n",
      "=================================================================\n",
      "Total params: 303,533,034\n",
      "Trainable params: 303,533,034\n",
      "Non-trainable params: 0\n",
      "_________________________________________________________________\n"
     ]
    }
   ],
   "source": [
    "model = keras.Sequential()\n",
    "\n",
    "model.add(layers.Embedding(input_dim=9485137, output_dim=32)) #input_dim to be decided...\n",
    "\n",
    "# Add a LSTM layer with 128 internal units.\n",
    "model.add(layers.LSTM(32))\n",
    "\n",
    "# Add a Dense layer with 10 units.\n",
    "model.add(layers.Dense(10))\n",
    "\n",
    "history = model.compile(optimizer=\"Adam\", loss=\"binary_crossentropy\", metrics=[\"accuracy\"])\n",
    "\n",
    "model.summary()"
   ]
  },
  {
   "cell_type": "code",
   "execution_count": 42,
   "metadata": {
    "colab": {
     "base_uri": "https://localhost:8080/"
    },
    "id": "tvtYUn_eltgF",
    "outputId": "aee74b23-a4ba-4fd3-da34-af5c53182a5c"
   },
   "outputs": [
    {
     "name": "stdout",
     "output_type": "stream",
     "text": [
      "Epoch 1/10\n",
      "11/11 [==============================] - 31s 3s/step - loss: 1.6265 - accuracy: 0.0432\n",
      "Epoch 2/10\n",
      "11/11 [==============================] - 29s 3s/step - loss: 0.8338 - accuracy: 0.2622\n",
      "Epoch 3/10\n",
      "11/11 [==============================] - 29s 3s/step - loss: 0.7329 - accuracy: 0.2651\n",
      "Epoch 4/10\n",
      "11/11 [==============================] - 29s 3s/step - loss: 0.6755 - accuracy: 0.2651\n",
      "Epoch 5/10\n",
      "11/11 [==============================] - 29s 3s/step - loss: 0.6152 - accuracy: 0.2651\n",
      "Epoch 6/10\n",
      "11/11 [==============================] - 29s 3s/step - loss: 0.5666 - accuracy: 0.2651\n",
      "Epoch 7/10\n",
      "11/11 [==============================] - 29s 3s/step - loss: 0.5128 - accuracy: 0.2651\n",
      "Epoch 8/10\n",
      "11/11 [==============================] - 29s 3s/step - loss: 0.4640 - accuracy: 0.2651\n",
      "Epoch 9/10\n",
      "11/11 [==============================] - 29s 3s/step - loss: 0.3891 - accuracy: 0.2651\n",
      "Epoch 10/10\n",
      "11/11 [==============================] - 29s 3s/step - loss: 0.2832 - accuracy: 0.2565\n"
     ]
    },
    {
     "data": {
      "text/plain": [
       "<tensorflow.python.keras.callbacks.History at 0x7efb9e0306d8>"
      ]
     },
     "execution_count": 42,
     "metadata": {
      "tags": []
     },
     "output_type": "execute_result"
    }
   ],
   "source": [
    "model.fit(X[1:], y[1:], epochs=10, verbose=1)"
   ]
  },
  {
   "cell_type": "code",
   "execution_count": null,
   "metadata": {
    "id": "Q8Gi19xgltgI"
   },
   "outputs": [],
   "source": []
  }
 ],
 "metadata": {
  "colab": {
   "name": "RNN_third_draft.ipynb",
   "provenance": []
  },
  "kernelspec": {
   "display_name": "Python 3",
   "language": "python",
   "name": "python3"
  },
  "language_info": {
   "codemirror_mode": {
    "name": "ipython",
    "version": 3
   },
   "file_extension": ".py",
   "mimetype": "text/x-python",
   "name": "python",
   "nbconvert_exporter": "python",
   "pygments_lexer": "ipython3",
   "version": "3.8.6"
  }
 },
 "nbformat": 4,
 "nbformat_minor": 1
}
