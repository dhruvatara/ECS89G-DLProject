{
 "cells": [
  {
   "cell_type": "code",
   "execution_count": 5,
   "metadata": {
    "id": "QRNBWQxxltfJ"
   },
   "outputs": [],
   "source": [
    "# Define dataframe\n",
    "# Will use same as baseline\n",
    "import numpy as np\n",
    "import pandas as pd\n",
    "df = pd.read_csv('https://raw.githubusercontent.com/dhruvatara/ECS89G-DLProject/main/somewhat_cleaned.csv?token=ACTMRDTYUM2JXVLFHIKU3227WHJKA')\n",
    "twentycentury = df[df['Year']>1899]"
   ]
  },
  {
   "cell_type": "code",
   "execution_count": 6,
   "metadata": {
    "colab": {
     "base_uri": "https://localhost:8080/"
    },
    "id": "OBiGdXeAltfl",
    "outputId": "7020477f-fed3-4371-8b11-58adf2808137"
   },
   "outputs": [
    {
     "data": {
      "text/plain": [
       "Unnamed: 0                                                   0\n",
       "Country                                                      0\n",
       "Year                                                         0\n",
       "Gold Standard                                                0\n",
       "exch_usd                                                     0\n",
       "Domestic_Debt_In_Default                                     0\n",
       "Sovereign External Debt                                      0\n",
       "GDP_Weighted_default                                         0\n",
       "Inflation, Annual percentages of average consumer prices     0\n",
       "Independence                                                 0\n",
       "Unemployment Rate                                            0\n",
       "GDP                                                          0\n",
       "GDP PerCapita                                               21\n",
       "Crisis                                                       0\n",
       "dtype: int64"
      ]
     },
     "execution_count": 6,
     "metadata": {
      "tags": []
     },
     "output_type": "execute_result"
    }
   ],
   "source": [
    "# considering only 20th century+ data because GDP and inflation values are NaN before\n",
    "twentycentury.isna().sum()"
   ]
  },
  {
   "cell_type": "code",
   "execution_count": 7,
   "metadata": {
    "id": "ZpvIkVHKltft"
   },
   "outputs": [],
   "source": [
    "X = twentycentury.drop(['Crisis','GDP PerCapita','Country', 'Inflation, Annual percentages of average consumer prices'],axis=1)\n",
    "y = twentycentury['Crisis']"
   ]
  },
  {
   "cell_type": "code",
   "execution_count": 8,
   "metadata": {
    "colab": {
     "base_uri": "https://localhost:8080/"
    },
    "id": "cwC9nVRXltfx",
    "outputId": "44c54f5d-0ec1-41ec-9aef-39df45773b73"
   },
   "outputs": [
    {
     "data": {
      "text/plain": [
       "(348, 10)"
      ]
     },
     "execution_count": 8,
     "metadata": {
      "tags": []
     },
     "output_type": "execute_result"
    }
   ],
   "source": [
    "X.shape"
   ]
  },
  {
   "cell_type": "code",
   "execution_count": 9,
   "metadata": {
    "id": "CSWJJZaQltf2"
   },
   "outputs": [],
   "source": [
    "X = np.asarray(X).astype('float32')\n",
    "y = np.asarray(y).astype(\"float32\")"
   ]
  },
  {
   "cell_type": "code",
   "execution_count": 20,
   "metadata": {
    "colab": {
     "base_uri": "https://localhost:8080/"
    },
    "id": "1Th_wGsBltf5",
    "outputId": "dd8eedcc-de13-4085-dd7d-7ccd95e4ae72"
   },
   "outputs": [
    {
     "data": {
      "text/plain": [
       "9485137.0"
      ]
     },
     "execution_count": 20,
     "metadata": {
      "tags": []
     },
     "output_type": "execute_result"
    }
   ],
   "source": [
    "input_dimen = (max(X.max(axis=1)) + 1)\n",
    "input_dimen"
   ]
  },
  {
   "cell_type": "code",
   "execution_count": 15,
   "metadata": {
    "id": "kzqo0L_Bltf-"
   },
   "outputs": [],
   "source": [
    "# Buid RNN model\n",
    "# Import libraries\n",
    "import tensorflow as tf\n",
    "from tensorflow import keras\n",
    "from tensorflow.keras import layers"
   ]
  },
  {
   "cell_type": "code",
   "execution_count": 22,
   "metadata": {
    "colab": {
     "base_uri": "https://localhost:8080/"
    },
    "id": "uMYBOr-5ltgB",
    "outputId": "d268813b-f754-4675-9993-3e9009284bfb"
   },
   "outputs": [
    {
     "name": "stdout",
     "output_type": "stream",
     "text": [
      "Model: \"sequential_4\"\n",
      "_________________________________________________________________\n",
      "Layer (type)                 Output Shape              Param #   \n",
      "=================================================================\n",
      "embedding_4 (Embedding)      (None, None, 32)          303524384 \n",
      "_________________________________________________________________\n",
      "lstm_2 (LSTM)                (None, 32)                8320      \n",
      "_________________________________________________________________\n",
      "dense_2 (Dense)              (None, 10)                330       \n",
      "=================================================================\n",
      "Total params: 303,533,034\n",
      "Trainable params: 303,533,034\n",
      "Non-trainable params: 0\n",
      "_________________________________________________________________\n"
     ]
    }
   ],
   "source": [
    "model = keras.Sequential()\n",
    "\n",
    "model.add(layers.Embedding(input_dim=9485137, output_dim=32)) #input_dim to be decided...\n",
    "\n",
    "# Add a LSTM layer with 128 internal units.\n",
    "model.add(layers.LSTM(32))\n",
    "\n",
    "# Add a Dense layer with 10 units.\n",
    "model.add(layers.Dense(10))\n",
    "\n",
    "history = model.compile(optimizer=\"Adam\", loss=\"binary_crossentropy\", metrics=[\"accuracy\"])\n",
    "\n",
    "model.summary()"
   ]
  },
  {
   "cell_type": "code",
   "execution_count": 23,
   "metadata": {
    "colab": {
     "base_uri": "https://localhost:8080/"
    },
    "id": "tvtYUn_eltgF",
    "outputId": "fb13c88d-b8f6-4728-dc16-eea33881c523"
   },
   "outputs": [
    {
     "name": "stdout",
     "output_type": "stream",
     "text": [
      "Epoch 1/10\n",
      "11/11 [==============================] - 30s 3s/step - loss: 1.7437 - accuracy: 0.0548\n",
      "Epoch 2/10\n",
      "11/11 [==============================] - 29s 3s/step - loss: 1.0453 - accuracy: 0.0259\n",
      "Epoch 3/10\n",
      "11/11 [==============================] - 30s 3s/step - loss: 0.9090 - accuracy: 0.0720\n",
      "Epoch 4/10\n",
      "11/11 [==============================] - 30s 3s/step - loss: 0.8481 - accuracy: 0.1182\n",
      "Epoch 5/10\n",
      "11/11 [==============================] - 30s 3s/step - loss: 0.8035 - accuracy: 0.1931\n",
      "Epoch 6/10\n",
      "11/11 [==============================] - 31s 3s/step - loss: 0.7670 - accuracy: 0.2651\n",
      "Epoch 7/10\n",
      "11/11 [==============================] - 30s 3s/step - loss: 0.7303 - accuracy: 0.3314\n",
      "Epoch 8/10\n",
      "11/11 [==============================] - 30s 3s/step - loss: 0.6911 - accuracy: 0.3890\n",
      "Epoch 9/10\n",
      "11/11 [==============================] - 30s 3s/step - loss: 0.6478 - accuracy: 0.4524\n",
      "Epoch 10/10\n",
      "11/11 [==============================] - 30s 3s/step - loss: 0.6026 - accuracy: 0.5331\n"
     ]
    },
    {
     "data": {
      "text/plain": [
       "<tensorflow.python.keras.callbacks.History at 0x7f5c6eed9da0>"
      ]
     },
     "execution_count": 23,
     "metadata": {
      "tags": []
     },
     "output_type": "execute_result"
    }
   ],
   "source": [
    "model.fit(X[1:], y[1:], epochs=10, verbose=1)"
   ]
  },
  {
   "cell_type": "code",
   "execution_count": null,
   "metadata": {
    "id": "Q8Gi19xgltgI"
   },
   "outputs": [],
   "source": []
  }
 ],
 "metadata": {
  "colab": {
   "name": "RNN_second_draft.ipynb",
   "provenance": []
  },
  "kernelspec": {
   "display_name": "Python 3",
   "language": "python",
   "name": "python3"
  },
  "language_info": {
   "codemirror_mode": {
    "name": "ipython",
    "version": 3
   },
   "file_extension": ".py",
   "mimetype": "text/x-python",
   "name": "python",
   "nbconvert_exporter": "python",
   "pygments_lexer": "ipython3",
   "version": "3.8.6"
  }
 },
 "nbformat": 4,
 "nbformat_minor": 1
}
